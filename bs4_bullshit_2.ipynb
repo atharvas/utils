{
  "nbformat": 4,
  "nbformat_minor": 0,
  "metadata": {
    "colab": {
      "name": "bs4_bullshit_2.ipynb",
      "version": "0.3.2",
      "provenance": [],
      "collapsed_sections": [],
      "toc_visible": true,
      "include_colab_link": true
    },
    "kernelspec": {
      "name": "python3",
      "display_name": "Python 3"
    }
  },
  "cells": [
    {
      "cell_type": "markdown",
      "metadata": {
        "id": "view-in-github",
        "colab_type": "text"
      },
      "source": [
        "<a href=\"https://colab.research.google.com/github/atharvas/utils/blob/master/bs4_bullshit_2.ipynb\" target=\"_parent\"><img src=\"https://colab.research.google.com/assets/colab-badge.svg\" alt=\"Open In Colab\"/></a>"
      ]
    },
    {
      "metadata": {
        "id": "oy5VpxTTjsw3",
        "colab_type": "text"
      },
      "cell_type": "markdown",
      "source": [
        "## Imports"
      ]
    },
    {
      "metadata": {
        "id": "ED3vAjJkLB7z",
        "colab_type": "code",
        "colab": {}
      },
      "cell_type": "code",
      "source": [
        "from bs4 import BeautifulSoup\n",
        "import pandas as pd\n",
        "import numpy as np\n",
        "import requests\n",
        "import datetime\n",
        "import time\n",
        "import random\n",
        "from io import StringIO\n"
      ],
      "execution_count": 0,
      "outputs": []
    },
    {
      "metadata": {
        "id": "wevixvrwhq1d",
        "colab_type": "code",
        "outputId": "0579e9dc-f092-4afd-947b-6cde00e2eb15",
        "colab": {
          "base_uri": "https://localhost:8080/",
          "height": 122
        }
      },
      "cell_type": "code",
      "source": [
        "from google.colab import drive\n",
        "drive.mount('/gdrive')"
      ],
      "execution_count": 0,
      "outputs": [
        {
          "output_type": "stream",
          "text": [
            "Go to this URL in a browser: https://accounts.google.com/o/oauth2/auth?client_id=947318989803-6bn6qk8qdgf4n4g3pfee6491hc0brc4i.apps.googleusercontent.com&redirect_uri=urn%3Aietf%3Awg%3Aoauth%3A2.0%3Aoob&scope=email%20https%3A%2F%2Fwww.googleapis.com%2Fauth%2Fdocs.test%20https%3A%2F%2Fwww.googleapis.com%2Fauth%2Fdrive%20https%3A%2F%2Fwww.googleapis.com%2Fauth%2Fdrive.photos.readonly%20https%3A%2F%2Fwww.googleapis.com%2Fauth%2Fpeopleapi.readonly&response_type=code\n",
            "\n",
            "Enter your authorization code:\n",
            "··········\n",
            "Mounted at /gdrive\n"
          ],
          "name": "stdout"
        }
      ]
    },
    {
      "metadata": {
        "id": "QVCelZqSdDTB",
        "colab_type": "code",
        "colab": {}
      },
      "cell_type": "code",
      "source": [
        "profDF = pd.read_csv(\"/gdrive/My Drive/SPRING_2019/CS225H/proj3/graybook-cleaned.csv\")"
      ],
      "execution_count": 0,
      "outputs": []
    },
    {
      "metadata": {
        "id": "wTj76BZLw-Zt",
        "colab_type": "text"
      },
      "cell_type": "markdown",
      "source": [
        "## Helper Functions"
      ]
    },
    {
      "metadata": {
        "id": "ZbVW-aQVa5e9",
        "colab_type": "code",
        "outputId": "a67ab485-ecfe-4b93-933d-fdcb214b8d80",
        "colab": {
          "base_uri": "https://localhost:8080/",
          "height": 34
        }
      },
      "cell_type": "code",
      "source": [
        "def getProfMetrics(link):\n",
        "  url = base_url + link\n",
        "  source = requests.get(url).text\n",
        "  soup = BeautifulSoup(source, 'lxml')\n",
        "  ratings = soup.find_all(\"div\", class_=\"grade\")#.text\n",
        "  return [i.text.strip() for i in ratings]\n",
        "\n",
        "getProfMetrics(\"/ShowRatings.jsp?tid=1462973\")"
      ],
      "execution_count": 0,
      "outputs": [
        {
          "output_type": "execute_result",
          "data": {
            "text/plain": [
              "['10\\nGrade Received (Optional)\\n\\n\\n\\nSelect\\nA+\\nA\\nA-\\nB+\\nB\\nB-\\nC+\\nC\\nC-\\nD+\\nD\\nD-\\nF\\nDrop/Withdrawal\\nIncomplete\\nNot sure yet\\nRather not say\\nAudit/No Grade']"
            ]
          },
          "metadata": {
            "tags": []
          },
          "execution_count": 152
        }
      ]
    },
    {
      "metadata": {
        "id": "LNUbncz2cJ5B",
        "colab_type": "code",
        "outputId": "9846020b-9df4-4b90-cf25-16c2f365d384",
        "colab": {
          "base_uri": "https://localhost:8080/",
          "height": 80
        }
      },
      "cell_type": "code",
      "source": [
        "def getProfRatings(name):\n",
        "  base_url = \"https://www.ratemyprofessors.com\"\n",
        "  url = base_url + \"/search.jsp?queryBy=teacherName&queryoption=HEADER&query=\" + name.replace(\" \", \"+\") + \"&\" + \"facetSearch=true\"\n",
        "  source = requests.get(url).text\n",
        "  soup = BeautifulSoup(source, 'lxml')\n",
        "  link = soup.find(\"ul\", class_=\"listings\")\n",
        "  if link is None:\n",
        "    return None\n",
        "  profs = link.find_all(\"a\")\n",
        "  link = profs[len(profs) - 1]['href']\n",
        "  prof_metrics = getProfMetrics(link)\n",
        "  prof_metrics.append(name)\n",
        "  retDF = pd.DataFrame(prof_metrics).T\n",
        "  retDF.columns = [\"Rating\", \"Again\", \"Difficulty\", \"Name\"] \n",
        "  return retDF\n",
        "\n",
        "getProfRatings(\"Nerissa Brown\")"
      ],
      "execution_count": 0,
      "outputs": [
        {
          "output_type": "execute_result",
          "data": {
            "text/html": [
              "<div>\n",
              "<style scoped>\n",
              "    .dataframe tbody tr th:only-of-type {\n",
              "        vertical-align: middle;\n",
              "    }\n",
              "\n",
              "    .dataframe tbody tr th {\n",
              "        vertical-align: top;\n",
              "    }\n",
              "\n",
              "    .dataframe thead th {\n",
              "        text-align: right;\n",
              "    }\n",
              "</style>\n",
              "<table border=\"1\" class=\"dataframe\">\n",
              "  <thead>\n",
              "    <tr style=\"text-align: right;\">\n",
              "      <th></th>\n",
              "      <th>Rating</th>\n",
              "      <th>Again</th>\n",
              "      <th>Difficulty</th>\n",
              "      <th>Name</th>\n",
              "    </tr>\n",
              "  </thead>\n",
              "  <tbody>\n",
              "    <tr>\n",
              "      <th>0</th>\n",
              "      <td>4.3</td>\n",
              "      <td>N/A</td>\n",
              "      <td>1.0</td>\n",
              "      <td>Nerissa Brown</td>\n",
              "    </tr>\n",
              "  </tbody>\n",
              "</table>\n",
              "</div>"
            ],
            "text/plain": [
              "  Rating Again Difficulty           Name\n",
              "0    4.3   N/A        1.0  Nerissa Brown"
            ]
          },
          "metadata": {
            "tags": []
          },
          "execution_count": 155
        }
      ]
    },
    {
      "metadata": {
        "id": "Vd361IPjkVXH",
        "colab_type": "code",
        "colab": {}
      },
      "cell_type": "code",
      "source": [
        "def reverse_name(name):\n",
        "  parts = name.split(\", \")\n",
        "  parts[1] = parts[1].split(\" \")[0]\n",
        "  new_name = parts[1] + \" \" + parts[0]  \n",
        "  return new_name"
      ],
      "execution_count": 0,
      "outputs": []
    },
    {
      "metadata": {
        "id": "Dfx28Tz9h_y2",
        "colab_type": "code",
        "colab": {}
      },
      "cell_type": "code",
      "source": [
        "cleanDF = profDF[[\"Employee Name\", \"Primary Job Title\", \"Primary College\", \"Primary Department\", \"Salary\"]]\n",
        "\n",
        "mask = cleanDF['Primary Job Title'] != \"???\"\n",
        "mask2 = cleanDF['Primary Department'] != \"???\"\n",
        "mask3 = cleanDF['Primary Job Title'] != \"???\"\n",
        "\n",
        "cleanDF = cleanDF.loc[mask & mask2 & mask3]\n",
        "cleanDF['Employee Name'] = cleanDF['Employee Name'].apply(lambda x: reverse_name(x))\n",
        "profs = cleanDF['Employee Name'].tolist()"
      ],
      "execution_count": 0,
      "outputs": []
    },
    {
      "metadata": {
        "id": "yx_mgh9jjzyn",
        "colab_type": "code",
        "outputId": "8944636e-6dba-41b8-e9b9-7e97f9ac356d",
        "colab": {
          "base_uri": "https://localhost:8080/",
          "height": 187
        }
      },
      "cell_type": "code",
      "source": [
        "sleep_list = [0.5, 0.75, 1, 1.25, 1.50, 1.75, 2.0]\n",
        "huge_df = list()\n",
        "\n",
        "for prof in profs:\n",
        "  print(prof)\n",
        "  time.sleep(random.choice(sleep_list)) # wait some seconds before making each request to prevent DDOSing their site.\n",
        "  rating = getProfRatings(prof)\n",
        "  if rating is not None:\n",
        "    huge_df.append(rating)\n",
        "\n",
        "huge_df = pd.concat(huge_df)\n",
        "huge_df.to_csv(\"muh_data.csv\")"
      ],
      "execution_count": 0,
      "outputs": [
        {
          "output_type": "stream",
          "text": [
            "Manu Edakara\n",
            "John Quarton\n",
            "Valeri Werpetinski\n",
            "Ahmed Abdel-Khalik\n",
            "Waqar Ahmed\n",
            "Vikrant Anand\n",
            "Spencer Anderson\n",
            "Gerlando Augusto Sampaio Franco de Lima\n",
            "Nerissa Brown\n",
            "Timothy Brown\n"
          ],
          "name": "stdout"
        }
      ]
    }
  ]
}