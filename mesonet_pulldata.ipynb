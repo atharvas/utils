{
  "nbformat": 4,
  "nbformat_minor": 0,
  "metadata": {
    "colab": {
      "name": "mesonet_pulldata.ipynb",
      "version": "0.3.2",
      "provenance": [],
      "collapsed_sections": [],
      "toc_visible": true,
      "include_colab_link": true
    },
    "kernelspec": {
      "name": "python3",
      "display_name": "Python 3"
    }
  },
  "cells": [
    {
      "cell_type": "markdown",
      "metadata": {
        "id": "view-in-github",
        "colab_type": "text"
      },
      "source": [
        "<a href=\"https://colab.research.google.com/github/atharvas/utils/blob/master/mesonet_pulldata.ipynb\" target=\"_parent\"><img src=\"https://colab.research.google.com/assets/colab-badge.svg\" alt=\"Open In Colab\"/></a>"
      ]
    },
    {
      "metadata": {
        "id": "1rGoCXAfwZ5l",
        "colab_type": "text"
      },
      "cell_type": "markdown",
      "source": [
        "# Mesonet Data Pull\n",
        "\n",
        "A simple python script to pull data from https://mesonet.agron.iastate.edu/request/download.phtml\n",
        "\n",
        "skip to **Construct-Request** to actually make a request. "
      ]
    },
    {
      "metadata": {
        "id": "oy5VpxTTjsw3",
        "colab_type": "text"
      },
      "cell_type": "markdown",
      "source": [
        "## Imports"
      ]
    },
    {
      "metadata": {
        "id": "ED3vAjJkLB7z",
        "colab_type": "code",
        "colab": {}
      },
      "cell_type": "code",
      "source": [
        "from bs4 import BeautifulSoup\n",
        "import pandas as pd\n",
        "import numpy as np\n",
        "import requests\n",
        "import datetime\n",
        "import time\n",
        "import random\n",
        "from io import StringIO\n"
      ],
      "execution_count": 0,
      "outputs": []
    },
    {
      "metadata": {
        "id": "TpQXM4Bajr7A",
        "colab_type": "code",
        "colab": {}
      },
      "cell_type": "code",
      "source": [
        ""
      ],
      "execution_count": 0,
      "outputs": []
    },
    {
      "metadata": {
        "id": "wTj76BZLw-Zt",
        "colab_type": "text"
      },
      "cell_type": "markdown",
      "source": [
        "## Helper Functions"
      ]
    },
    {
      "metadata": {
        "id": "W6IlySIOLHTf",
        "colab_type": "code",
        "outputId": "cdb3d60a-3197-4501-9d42-59eaaba2dfbb",
        "colab": {
          "base_uri": "https://localhost:8080/",
          "height": 34
        }
      },
      "cell_type": "code",
      "source": [
        "def get_network_list():\n",
        "  '''\n",
        "  get all the US ASOS networks in the database. these will later be used to get stations in each network.\n",
        "  \n",
        "  returns:\n",
        "  network_list : a list of all found networks.\n",
        "  '''\n",
        "  us_states = pd.read_csv(\"https://raw.githubusercontent.com/jasonong/List-of-US-States/master/states.csv\")['State'].tolist()\n",
        "  url = \"https://mesonet.agron.iastate.edu/request/download.phtml\"\n",
        "  source = requests.get(url).text\n",
        "  soup = BeautifulSoup(source, 'lxml')\n",
        "\n",
        "  # <select class=\"iemselect2\" name=\"network\">\n",
        "  station_list = soup.find(\"select\", attrs={\"name\":\"network\"}).find_all(\"option\")\n",
        "\n",
        "  network_list = list()\n",
        "\n",
        "  for station in station_list:\n",
        "    code = station['value']\n",
        "    if (station.text[:-5] in us_states):\n",
        "      network_list.append(station['value'])\n",
        "  return network_list\n",
        "    \n",
        "get_network_list()[0:2]"
      ],
      "execution_count": 0,
      "outputs": [
        {
          "output_type": "execute_result",
          "data": {
            "text/plain": [
              "['AL_ASOS', 'AK_ASOS']"
            ]
          },
          "metadata": {
            "tags": []
          },
          "execution_count": 3
        }
      ]
    },
    {
      "metadata": {
        "id": "KFoXvAGfb-x_",
        "colab_type": "code",
        "outputId": "eed6f122-fa11-4f1b-aed1-34eb55abc52c",
        "colab": {
          "base_uri": "https://localhost:8080/",
          "height": 206
        }
      },
      "cell_type": "code",
      "source": [
        "def get_stations(network_list):\n",
        "  '''\n",
        "  get all the stations in the network list\n",
        "  inputs:\n",
        "  station_list: list of ASOS stations. output from get_network_list()\n",
        "  returns:\n",
        "  stationDF : a pandas df with info about all the stations in the network list\n",
        "  '''\n",
        "  station_list = list()\n",
        "  sleep_list = [0.5, 1, 1.5, 2, 2.5, 5, 7]\n",
        "\n",
        "  for network in network_list:\n",
        "    time.sleep(random.choice(sleep_list)) # wait some seconds before making each request to prevent DDOSing their site.\n",
        "    url = \"https://mesonet.agron.iastate.edu/sites/networks.php?network=\" + str(network) + \"&format=csv\"\n",
        "    source = requests.get(url).text\n",
        "    soup = BeautifulSoup(source, 'lxml')\n",
        "    stations = pd.read_csv(StringIO(soup.find(\"form\", attrs={\"name\":\"networkSelect\"}).find(\"pre\").text[1:]))\n",
        "    station_list.append(stations)\n",
        "  stationDF = pd.concat(station_list)\n",
        "  return stationDF\n",
        "\n",
        "stationDF = get_stations(get_network_list()[0:5])\n",
        "stationDF.head()"
      ],
      "execution_count": 0,
      "outputs": [
        {
          "output_type": "execute_result",
          "data": {
            "text/html": [
              "<div>\n",
              "<style scoped>\n",
              "    .dataframe tbody tr th:only-of-type {\n",
              "        vertical-align: middle;\n",
              "    }\n",
              "\n",
              "    .dataframe tbody tr th {\n",
              "        vertical-align: top;\n",
              "    }\n",
              "\n",
              "    .dataframe thead th {\n",
              "        text-align: right;\n",
              "    }\n",
              "</style>\n",
              "<table border=\"1\" class=\"dataframe\">\n",
              "  <thead>\n",
              "    <tr style=\"text-align: right;\">\n",
              "      <th></th>\n",
              "      <th>stid</th>\n",
              "      <th>station_name</th>\n",
              "      <th>lat</th>\n",
              "      <th>lon</th>\n",
              "      <th>elev</th>\n",
              "      <th>begints</th>\n",
              "      <th>iem_network</th>\n",
              "    </tr>\n",
              "  </thead>\n",
              "  <tbody>\n",
              "    <tr>\n",
              "      <th>0</th>\n",
              "      <td>EET</td>\n",
              "      <td>ALABASTER</td>\n",
              "      <td>33.18000</td>\n",
              "      <td>-86.78000</td>\n",
              "      <td>178.0</td>\n",
              "      <td>1998-07-01 00:53:00-05</td>\n",
              "      <td>AL_ASOS</td>\n",
              "    </tr>\n",
              "    <tr>\n",
              "      <th>1</th>\n",
              "      <td>8A0</td>\n",
              "      <td>Albertville</td>\n",
              "      <td>34.22910</td>\n",
              "      <td>-86.25580</td>\n",
              "      <td>315.0</td>\n",
              "      <td>2006-04-01 00:18:00-06</td>\n",
              "      <td>AL_ASOS</td>\n",
              "    </tr>\n",
              "    <tr>\n",
              "      <th>2</th>\n",
              "      <td>ALX</td>\n",
              "      <td>ALEXANDER_CITY</td>\n",
              "      <td>32.91474</td>\n",
              "      <td>-85.96296</td>\n",
              "      <td>209.0</td>\n",
              "      <td>2003-06-01 00:00:00-05</td>\n",
              "      <td>AL_ASOS</td>\n",
              "    </tr>\n",
              "    <tr>\n",
              "      <th>3</th>\n",
              "      <td>79J</td>\n",
              "      <td>ANDALUSIA/OPP ARPT</td>\n",
              "      <td>31.30875</td>\n",
              "      <td>-86.39378</td>\n",
              "      <td>94.0</td>\n",
              "      <td>1973-01-01 00:00:00-06</td>\n",
              "      <td>AL_ASOS</td>\n",
              "    </tr>\n",
              "    <tr>\n",
              "      <th>4</th>\n",
              "      <td>ANB</td>\n",
              "      <td>ANNISTON/CALHOUN CO</td>\n",
              "      <td>33.58817</td>\n",
              "      <td>-85.85811</td>\n",
              "      <td>186.0</td>\n",
              "      <td>1948-01-01 00:00:00-06</td>\n",
              "      <td>AL_ASOS</td>\n",
              "    </tr>\n",
              "  </tbody>\n",
              "</table>\n",
              "</div>"
            ],
            "text/plain": [
              "  stid         station_name       lat       lon   elev  \\\n",
              "0  EET            ALABASTER  33.18000 -86.78000  178.0   \n",
              "1  8A0          Albertville  34.22910 -86.25580  315.0   \n",
              "2  ALX       ALEXANDER_CITY  32.91474 -85.96296  209.0   \n",
              "3  79J   ANDALUSIA/OPP ARPT  31.30875 -86.39378   94.0   \n",
              "4  ANB  ANNISTON/CALHOUN CO  33.58817 -85.85811  186.0   \n",
              "\n",
              "                  begints iem_network  \n",
              "0  1998-07-01 00:53:00-05     AL_ASOS  \n",
              "1  2006-04-01 00:18:00-06     AL_ASOS  \n",
              "2  2003-06-01 00:00:00-05     AL_ASOS  \n",
              "3  1973-01-01 00:00:00-06     AL_ASOS  \n",
              "4  1948-01-01 00:00:00-06     AL_ASOS  "
            ]
          },
          "metadata": {
            "tags": []
          },
          "execution_count": 4
        }
      ]
    },
    {
      "metadata": {
        "id": "HAGdGfkwcboI",
        "colab_type": "code",
        "outputId": "6ed0321d-8ce2-48f6-d37f-15fdde76fd79",
        "colab": {
          "base_uri": "https://localhost:8080/",
          "height": 34
        }
      },
      "cell_type": "code",
      "source": [
        "def get_station_request(stationDF):\n",
        "  '''\n",
        "  A wrapper to just get the stations as a string of requests.\n",
        "  '''\n",
        "  stations = str()\n",
        "  for station in stationDF['stid'].tolist():        # @TODO REMOVE [0:5] to make actual requests\n",
        "    stations += \"station=\" + station + \"&\"\n",
        "  return stations\n",
        "\n",
        "get_station_request(stationDF)[0:50]"
      ],
      "execution_count": 0,
      "outputs": [
        {
          "output_type": "execute_result",
          "data": {
            "text/plain": [
              "'station=EET&station=8A0&station=ALX&station=79J&st'"
            ]
          },
          "metadata": {
            "tags": []
          },
          "execution_count": 5
        }
      ]
    },
    {
      "metadata": {
        "id": "hYEoIhPxqAHZ",
        "colab_type": "text"
      },
      "cell_type": "markdown",
      "source": [
        "## Construct-Request"
      ]
    },
    {
      "metadata": {
        "id": "G2VMmzk5w14G",
        "colab_type": "code",
        "colab": {}
      },
      "cell_type": "code",
      "source": [
        "start_year = 2012\n",
        "start_month = 1\n",
        "start_day = 1\n",
        "\n",
        "end_year = 2012\n",
        "end_month = 1\n",
        "end_day = 2\n",
        "\n",
        "save_directory = \"./\""
      ],
      "execution_count": 0,
      "outputs": []
    },
    {
      "metadata": {
        "id": "Lo_1DxrdTP2k",
        "colab_type": "code",
        "outputId": "bd7f012d-45d6-4551-dc01-8ff2535f70d0",
        "colab": {
          "base_uri": "https://localhost:8080/",
          "height": 903
        }
      },
      "cell_type": "code",
      "source": [
        "def construct_request(start_year = 2012, start_month = 1, start_day = 1, end_year = 2012, end_month = 1, end_day = 2, save_directory = \"./\")\n",
        "  base_url = \"http://mesonet.agron.iastate.edu/cgi-bin/request/asos.py?\"\n",
        "  metadata = \"data=all&tz=Etc/UTC&format=onlycomma&latlon=yes&missing=M&trace=T&direct=no&report_type=1&report_type=2&\"\n",
        "  start_time = datetime.datetime(start_year, start_month, start_day).strftime('year1=%Y&month1=%m&day1=%d&')\n",
        "  end_time = datetime.datetime(end_year, end_month, end_day).strftime('year2=%Y&month2=%m&day2=%d&')\n",
        "  network_list = get_network_list()\n",
        "  for network in network_list:\n",
        "    stationDF = get_stations([network])\n",
        "    stations = get_station_request(stationDF)\n",
        "    url = base_url + metadata + start_time + end_time + stations\n",
        "    huge_ass_csv = (requests.get(url).text)\n",
        "    metar_name = (save_directory + \n",
        "                  \"METAR_\" +\n",
        "                  str(start_year) + \"_\" + str(start_month) + \"_\" + str(start_day) + \"_\" +\n",
        "                  str(end_year) + \"_\" + str(end_month) + \"_\" + str(end_day) + \"_\" +\n",
        "                  network[0:2] +\n",
        "                 \".csv\")  \n",
        "    print(\"network: \", network, \" saved at: \", metar_name)\n",
        "#     with open(metar_name, \"w\") as file:\n",
        "#         file.write(huge_ass_csv)\n",
        "  return\n",
        "construct_request()"
      ],
      "execution_count": 0,
      "outputs": [
        {
          "output_type": "stream",
          "text": [
            "network:  AL_ASOS  saved at:  ./METAR_2012_1_1_2012_1_2_AL.csv\n",
            "network:  AK_ASOS  saved at:  ./METAR_2012_1_1_2012_1_2_AK.csv\n",
            "network:  AZ_ASOS  saved at:  ./METAR_2012_1_1_2012_1_2_AZ.csv\n",
            "network:  AR_ASOS  saved at:  ./METAR_2012_1_1_2012_1_2_AR.csv\n",
            "network:  CA_ASOS  saved at:  ./METAR_2012_1_1_2012_1_2_CA.csv\n",
            "network:  CO_ASOS  saved at:  ./METAR_2012_1_1_2012_1_2_CO.csv\n",
            "network:  CT_ASOS  saved at:  ./METAR_2012_1_1_2012_1_2_CT.csv\n",
            "network:  DE_ASOS  saved at:  ./METAR_2012_1_1_2012_1_2_DE.csv\n",
            "network:  FL_ASOS  saved at:  ./METAR_2012_1_1_2012_1_2_FL.csv\n",
            "network:  GA_ASOS  saved at:  ./METAR_2012_1_1_2012_1_2_GA.csv\n",
            "network:  HI_ASOS  saved at:  ./METAR_2012_1_1_2012_1_2_HI.csv\n",
            "network:  ID_ASOS  saved at:  ./METAR_2012_1_1_2012_1_2_ID.csv\n",
            "network:  IL_ASOS  saved at:  ./METAR_2012_1_1_2012_1_2_IL.csv\n",
            "network:  IN_ASOS  saved at:  ./METAR_2012_1_1_2012_1_2_IN.csv\n",
            "network:  IA_ASOS  saved at:  ./METAR_2012_1_1_2012_1_2_IA.csv\n",
            "network:  AWOS  saved at:  ./METAR_2012_1_1_2012_1_2_AW.csv\n",
            "network:  KS_ASOS  saved at:  ./METAR_2012_1_1_2012_1_2_KS.csv\n",
            "network:  KY_ASOS  saved at:  ./METAR_2012_1_1_2012_1_2_KY.csv\n",
            "network:  LA_ASOS  saved at:  ./METAR_2012_1_1_2012_1_2_LA.csv\n",
            "network:  ME_ASOS  saved at:  ./METAR_2012_1_1_2012_1_2_ME.csv\n",
            "network:  MD_ASOS  saved at:  ./METAR_2012_1_1_2012_1_2_MD.csv\n",
            "network:  MA_ASOS  saved at:  ./METAR_2012_1_1_2012_1_2_MA.csv\n",
            "network:  MI_ASOS  saved at:  ./METAR_2012_1_1_2012_1_2_MI.csv\n",
            "network:  MN_ASOS  saved at:  ./METAR_2012_1_1_2012_1_2_MN.csv\n",
            "network:  MS_ASOS  saved at:  ./METAR_2012_1_1_2012_1_2_MS.csv\n",
            "network:  MO_ASOS  saved at:  ./METAR_2012_1_1_2012_1_2_MO.csv\n",
            "network:  MT_ASOS  saved at:  ./METAR_2012_1_1_2012_1_2_MT.csv\n",
            "network:  NE_ASOS  saved at:  ./METAR_2012_1_1_2012_1_2_NE.csv\n",
            "network:  NV_ASOS  saved at:  ./METAR_2012_1_1_2012_1_2_NV.csv\n",
            "network:  NH_ASOS  saved at:  ./METAR_2012_1_1_2012_1_2_NH.csv\n",
            "network:  NJ_ASOS  saved at:  ./METAR_2012_1_1_2012_1_2_NJ.csv\n",
            "network:  NM_ASOS  saved at:  ./METAR_2012_1_1_2012_1_2_NM.csv\n",
            "network:  NY_ASOS  saved at:  ./METAR_2012_1_1_2012_1_2_NY.csv\n",
            "network:  NC_ASOS  saved at:  ./METAR_2012_1_1_2012_1_2_NC.csv\n",
            "network:  ND_ASOS  saved at:  ./METAR_2012_1_1_2012_1_2_ND.csv\n",
            "network:  OH_ASOS  saved at:  ./METAR_2012_1_1_2012_1_2_OH.csv\n",
            "network:  OK_ASOS  saved at:  ./METAR_2012_1_1_2012_1_2_OK.csv\n",
            "network:  OR_ASOS  saved at:  ./METAR_2012_1_1_2012_1_2_OR.csv\n",
            "network:  PA_ASOS  saved at:  ./METAR_2012_1_1_2012_1_2_PA.csv\n",
            "network:  RI_ASOS  saved at:  ./METAR_2012_1_1_2012_1_2_RI.csv\n",
            "network:  SC_ASOS  saved at:  ./METAR_2012_1_1_2012_1_2_SC.csv\n",
            "network:  SD_ASOS  saved at:  ./METAR_2012_1_1_2012_1_2_SD.csv\n",
            "network:  TN_ASOS  saved at:  ./METAR_2012_1_1_2012_1_2_TN.csv\n",
            "network:  TX_ASOS  saved at:  ./METAR_2012_1_1_2012_1_2_TX.csv\n",
            "network:  UT_ASOS  saved at:  ./METAR_2012_1_1_2012_1_2_UT.csv\n",
            "network:  VT_ASOS  saved at:  ./METAR_2012_1_1_2012_1_2_VT.csv\n",
            "network:  VA_ASOS  saved at:  ./METAR_2012_1_1_2012_1_2_VA.csv\n",
            "network:  WA_ASOS  saved at:  ./METAR_2012_1_1_2012_1_2_WA.csv\n",
            "network:  WV_ASOS  saved at:  ./METAR_2012_1_1_2012_1_2_WV.csv\n",
            "network:  WI_ASOS  saved at:  ./METAR_2012_1_1_2012_1_2_WI.csv\n",
            "network:  WY_ASOS  saved at:  ./METAR_2012_1_1_2012_1_2_WY.csv\n"
          ],
          "name": "stdout"
        }
      ]
    },
    {
      "metadata": {
        "id": "SpgMoCRhp-NI",
        "colab_type": "code",
        "colab": {}
      },
      "cell_type": "code",
      "source": [
        ""
      ],
      "execution_count": 0,
      "outputs": []
    }
  ]
}